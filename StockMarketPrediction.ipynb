{
 "cells": [
  {
   "cell_type": "markdown",
   "id": "8c551d45-b5a1-49a6-aaac-04f5da23f2d2",
   "metadata": {},
   "source": [
    "# Stock Market Prediction And Forecasting Using Stacked LSTM"
   ]
  },
  {
   "cell_type": "markdown",
   "id": "616a3e9c-5c57-4838-8435-a04472bb19bd",
   "metadata": {},
   "source": [
    "## Import necessary libraries"
   ]
  },
  {
   "cell_type": "code",
   "execution_count": 1,
   "id": "88be3d6f-bf35-43b9-b801-a5bf98001dd4",
   "metadata": {},
   "outputs": [],
   "source": [
    "#for reading csv files\n",
    "import pandas as pd\n",
    "#for plotting data\n",
    "import matplotlib.pyplot as plt\n",
    "import numpy as np\n",
    "import torch\n",
    "import torch.nn as nn"
   ]
  },
  {
   "cell_type": "markdown",
   "id": "f4b28ccf-47ff-4b43-9129-fab1f205e54c",
   "metadata": {},
   "source": [
    "### Read stock market data available in the same directory and print it"
   ]
  },
  {
   "cell_type": "code",
   "execution_count": 2,
   "id": "b9d448e7-67bd-4184-bfa8-77b0e2924822",
   "metadata": {},
   "outputs": [],
   "source": [
    "df = pd.read_csv(\"NSE-TATAGLOBAL.csv\")"
   ]
  },
  {
   "cell_type": "code",
   "execution_count": 3,
   "id": "b329b80b-46c6-4918-9736-db1028a40723",
   "metadata": {},
   "outputs": [
    {
     "data": {
      "text/html": [
       "<div>\n",
       "<style scoped>\n",
       "    .dataframe tbody tr th:only-of-type {\n",
       "        vertical-align: middle;\n",
       "    }\n",
       "\n",
       "    .dataframe tbody tr th {\n",
       "        vertical-align: top;\n",
       "    }\n",
       "\n",
       "    .dataframe thead th {\n",
       "        text-align: right;\n",
       "    }\n",
       "</style>\n",
       "<table border=\"1\" class=\"dataframe\">\n",
       "  <thead>\n",
       "    <tr style=\"text-align: right;\">\n",
       "      <th></th>\n",
       "      <th>Date</th>\n",
       "      <th>Open</th>\n",
       "      <th>High</th>\n",
       "      <th>Low</th>\n",
       "      <th>Last</th>\n",
       "      <th>Close</th>\n",
       "      <th>Total Trade Quantity</th>\n",
       "      <th>Turnover (Lacs)</th>\n",
       "    </tr>\n",
       "  </thead>\n",
       "  <tbody>\n",
       "    <tr>\n",
       "      <th>0</th>\n",
       "      <td>2018-09-28</td>\n",
       "      <td>234.05</td>\n",
       "      <td>235.95</td>\n",
       "      <td>230.20</td>\n",
       "      <td>233.50</td>\n",
       "      <td>233.75</td>\n",
       "      <td>3069914</td>\n",
       "      <td>7162.35</td>\n",
       "    </tr>\n",
       "    <tr>\n",
       "      <th>1</th>\n",
       "      <td>2018-09-27</td>\n",
       "      <td>234.55</td>\n",
       "      <td>236.80</td>\n",
       "      <td>231.10</td>\n",
       "      <td>233.80</td>\n",
       "      <td>233.25</td>\n",
       "      <td>5082859</td>\n",
       "      <td>11859.95</td>\n",
       "    </tr>\n",
       "    <tr>\n",
       "      <th>2</th>\n",
       "      <td>2018-09-26</td>\n",
       "      <td>240.00</td>\n",
       "      <td>240.00</td>\n",
       "      <td>232.50</td>\n",
       "      <td>235.00</td>\n",
       "      <td>234.25</td>\n",
       "      <td>2240909</td>\n",
       "      <td>5248.60</td>\n",
       "    </tr>\n",
       "    <tr>\n",
       "      <th>3</th>\n",
       "      <td>2018-09-25</td>\n",
       "      <td>233.30</td>\n",
       "      <td>236.75</td>\n",
       "      <td>232.00</td>\n",
       "      <td>236.25</td>\n",
       "      <td>236.10</td>\n",
       "      <td>2349368</td>\n",
       "      <td>5503.90</td>\n",
       "    </tr>\n",
       "    <tr>\n",
       "      <th>4</th>\n",
       "      <td>2018-09-24</td>\n",
       "      <td>233.55</td>\n",
       "      <td>239.20</td>\n",
       "      <td>230.75</td>\n",
       "      <td>234.00</td>\n",
       "      <td>233.30</td>\n",
       "      <td>3423509</td>\n",
       "      <td>7999.55</td>\n",
       "    </tr>\n",
       "    <tr>\n",
       "      <th>...</th>\n",
       "      <td>...</td>\n",
       "      <td>...</td>\n",
       "      <td>...</td>\n",
       "      <td>...</td>\n",
       "      <td>...</td>\n",
       "      <td>...</td>\n",
       "      <td>...</td>\n",
       "      <td>...</td>\n",
       "    </tr>\n",
       "    <tr>\n",
       "      <th>2030</th>\n",
       "      <td>2010-07-27</td>\n",
       "      <td>117.60</td>\n",
       "      <td>119.50</td>\n",
       "      <td>112.00</td>\n",
       "      <td>118.80</td>\n",
       "      <td>118.65</td>\n",
       "      <td>586100</td>\n",
       "      <td>694.98</td>\n",
       "    </tr>\n",
       "    <tr>\n",
       "      <th>2031</th>\n",
       "      <td>2010-07-26</td>\n",
       "      <td>120.10</td>\n",
       "      <td>121.00</td>\n",
       "      <td>117.10</td>\n",
       "      <td>117.10</td>\n",
       "      <td>117.60</td>\n",
       "      <td>658440</td>\n",
       "      <td>780.01</td>\n",
       "    </tr>\n",
       "    <tr>\n",
       "      <th>2032</th>\n",
       "      <td>2010-07-23</td>\n",
       "      <td>121.80</td>\n",
       "      <td>121.95</td>\n",
       "      <td>120.25</td>\n",
       "      <td>120.35</td>\n",
       "      <td>120.65</td>\n",
       "      <td>281312</td>\n",
       "      <td>340.31</td>\n",
       "    </tr>\n",
       "    <tr>\n",
       "      <th>2033</th>\n",
       "      <td>2010-07-22</td>\n",
       "      <td>120.30</td>\n",
       "      <td>122.00</td>\n",
       "      <td>120.25</td>\n",
       "      <td>120.75</td>\n",
       "      <td>120.90</td>\n",
       "      <td>293312</td>\n",
       "      <td>355.17</td>\n",
       "    </tr>\n",
       "    <tr>\n",
       "      <th>2034</th>\n",
       "      <td>2010-07-21</td>\n",
       "      <td>122.10</td>\n",
       "      <td>123.00</td>\n",
       "      <td>121.05</td>\n",
       "      <td>121.10</td>\n",
       "      <td>121.55</td>\n",
       "      <td>658666</td>\n",
       "      <td>803.56</td>\n",
       "    </tr>\n",
       "  </tbody>\n",
       "</table>\n",
       "<p>2035 rows × 8 columns</p>\n",
       "</div>"
      ],
      "text/plain": [
       "            Date    Open    High     Low    Last   Close  \\\n",
       "0     2018-09-28  234.05  235.95  230.20  233.50  233.75   \n",
       "1     2018-09-27  234.55  236.80  231.10  233.80  233.25   \n",
       "2     2018-09-26  240.00  240.00  232.50  235.00  234.25   \n",
       "3     2018-09-25  233.30  236.75  232.00  236.25  236.10   \n",
       "4     2018-09-24  233.55  239.20  230.75  234.00  233.30   \n",
       "...          ...     ...     ...     ...     ...     ...   \n",
       "2030  2010-07-27  117.60  119.50  112.00  118.80  118.65   \n",
       "2031  2010-07-26  120.10  121.00  117.10  117.10  117.60   \n",
       "2032  2010-07-23  121.80  121.95  120.25  120.35  120.65   \n",
       "2033  2010-07-22  120.30  122.00  120.25  120.75  120.90   \n",
       "2034  2010-07-21  122.10  123.00  121.05  121.10  121.55   \n",
       "\n",
       "      Total Trade Quantity  Turnover (Lacs)  \n",
       "0                  3069914          7162.35  \n",
       "1                  5082859         11859.95  \n",
       "2                  2240909          5248.60  \n",
       "3                  2349368          5503.90  \n",
       "4                  3423509          7999.55  \n",
       "...                    ...              ...  \n",
       "2030                586100           694.98  \n",
       "2031                658440           780.01  \n",
       "2032                281312           340.31  \n",
       "2033                293312           355.17  \n",
       "2034                658666           803.56  \n",
       "\n",
       "[2035 rows x 8 columns]"
      ]
     },
     "execution_count": 3,
     "metadata": {},
     "output_type": "execute_result"
    }
   ],
   "source": [
    "df"
   ]
  },
  {
   "cell_type": "markdown",
   "id": "e3d49614-e104-4d87-8647-14d2a026e85c",
   "metadata": {},
   "source": [
    "### Converting Date dtype from object to Datetime"
   ]
  },
  {
   "cell_type": "code",
   "execution_count": 4,
   "id": "772512b7-d54a-442a-8fba-d9df3508d315",
   "metadata": {},
   "outputs": [
    {
     "data": {
      "text/plain": [
       "0       2018-09-28\n",
       "1       2018-09-27\n",
       "2       2018-09-26\n",
       "3       2018-09-25\n",
       "4       2018-09-24\n",
       "           ...    \n",
       "2030    2010-07-27\n",
       "2031    2010-07-26\n",
       "2032    2010-07-23\n",
       "2033    2010-07-22\n",
       "2034    2010-07-21\n",
       "Name: Date, Length: 2035, dtype: object"
      ]
     },
     "execution_count": 4,
     "metadata": {},
     "output_type": "execute_result"
    }
   ],
   "source": [
    "df['Date']"
   ]
  },
  {
   "cell_type": "raw",
   "id": "5d7da925-2404-4c7c-bc91-101b68d1a1dd",
   "metadata": {},
   "source": [
    "As we can see that the dtype for Date is object"
   ]
  },
  {
   "cell_type": "code",
   "execution_count": 5,
   "id": "9e03f1ea-a5a2-429e-b1f5-742d3844b074",
   "metadata": {},
   "outputs": [
    {
     "data": {
      "text/plain": [
       "0      2018-09-28\n",
       "1      2018-09-27\n",
       "2      2018-09-26\n",
       "3      2018-09-25\n",
       "4      2018-09-24\n",
       "          ...    \n",
       "2030   2010-07-27\n",
       "2031   2010-07-26\n",
       "2032   2010-07-23\n",
       "2033   2010-07-22\n",
       "2034   2010-07-21\n",
       "Name: Date, Length: 2035, dtype: datetime64[ns]"
      ]
     },
     "execution_count": 5,
     "metadata": {},
     "output_type": "execute_result"
    }
   ],
   "source": [
    "df['Date'] = pd.to_datetime(df['Date'])\n",
    "df['Date']"
   ]
  },
  {
   "cell_type": "raw",
   "id": "b4806e0e-4050-4adf-a02a-0fb628d7a564",
   "metadata": {},
   "source": [
    "Here, we have successfully converted dtype of Date from object to datetime"
   ]
  },
  {
   "cell_type": "markdown",
   "id": "e11ff840-4f02-4c35-8545-4f2276918dbd",
   "metadata": {},
   "source": [
    "### Plotting all the features against the year of Date "
   ]
  },
  {
   "cell_type": "code",
   "execution_count": 6,
   "id": "d810ee89-7f4e-4863-9d3f-b93b721be178",
   "metadata": {},
   "outputs": [
    {
     "data": {
      "text/plain": [
       "array([<Axes: xlabel='Date'>, <Axes: xlabel='Date'>,\n",
       "       <Axes: xlabel='Date'>, <Axes: xlabel='Date'>,\n",
       "       <Axes: xlabel='Date'>, <Axes: xlabel='Date'>,\n",
       "       <Axes: xlabel='Date'>], dtype=object)"
      ]
     },
     "execution_count": 6,
     "metadata": {},
     "output_type": "execute_result"
    },
    {
     "data": {
      "image/png": "[encoded data removed]",
      "text/plain": [
       "<Figure size 640x480 with 7 Axes>"
      ]
     },
     "metadata": {},
     "output_type": "display_data"
    }
   ],
   "source": [
    "plot_features = df.drop('Date',axis=1)\n",
    "plot_features.index = df['Date']\n",
    "plot_features.plot(subplots = True)"
   ]
  },
  {
   "cell_type": "raw",
   "id": "76083475-1524-4fc0-82b0-688b54be3deb",
   "metadata": {},
   "source": [
    "Statistical Description of df"
   ]
  },
  {
   "cell_type": "code",
   "execution_count": 7,
   "id": "4ac331ff-5997-45e2-a54b-1c703f5bae47",
   "metadata": {},
   "outputs": [
    {
     "data": {
      "text/html": [
       "<div>\n",
       "<style scoped>\n",
       "    .dataframe tbody tr th:only-of-type {\n",
       "        vertical-align: middle;\n",
       "    }\n",
       "\n",
       "    .dataframe tbody tr th {\n",
       "        vertical-align: top;\n",
       "    }\n",
       "\n",
       "    .dataframe thead th {\n",
       "        text-align: right;\n",
       "    }\n",
       "</style>\n",
       "<table border=\"1\" class=\"dataframe\">\n",
       "  <thead>\n",
       "    <tr style=\"text-align: right;\">\n",
       "      <th></th>\n",
       "      <th>count</th>\n",
       "      <th>mean</th>\n",
       "      <th>min</th>\n",
       "      <th>25%</th>\n",
       "      <th>50%</th>\n",
       "      <th>75%</th>\n",
       "      <th>max</th>\n",
       "      <th>std</th>\n",
       "    </tr>\n",
       "  </thead>\n",
       "  <tbody>\n",
       "    <tr>\n",
       "      <th>Date</th>\n",
       "      <td>2035</td>\n",
       "      <td>2014-08-20 14:43:06.339066112</td>\n",
       "      <td>2010-07-21 00:00:00</td>\n",
       "      <td>2012-07-28 12:00:00</td>\n",
       "      <td>2014-08-14 00:00:00</td>\n",
       "      <td>2016-09-10 12:00:00</td>\n",
       "      <td>2018-09-28 00:00:00</td>\n",
       "      <td>NaN</td>\n",
       "    </tr>\n",
       "    <tr>\n",
       "      <th>Open</th>\n",
       "      <td>2035.0</td>\n",
       "      <td>149.713735</td>\n",
       "      <td>81.1</td>\n",
       "      <td>120.025</td>\n",
       "      <td>141.5</td>\n",
       "      <td>157.175</td>\n",
       "      <td>327.7</td>\n",
       "      <td>48.664509</td>\n",
       "    </tr>\n",
       "    <tr>\n",
       "      <th>High</th>\n",
       "      <td>2035.0</td>\n",
       "      <td>151.992826</td>\n",
       "      <td>82.8</td>\n",
       "      <td>122.1</td>\n",
       "      <td>143.4</td>\n",
       "      <td>159.4</td>\n",
       "      <td>328.75</td>\n",
       "      <td>49.413109</td>\n",
       "    </tr>\n",
       "    <tr>\n",
       "      <th>Low</th>\n",
       "      <td>2035.0</td>\n",
       "      <td>147.293931</td>\n",
       "      <td>80.0</td>\n",
       "      <td>118.3</td>\n",
       "      <td>139.6</td>\n",
       "      <td>155.15</td>\n",
       "      <td>321.65</td>\n",
       "      <td>47.931958</td>\n",
       "    </tr>\n",
       "    <tr>\n",
       "      <th>Last</th>\n",
       "      <td>2035.0</td>\n",
       "      <td>149.474251</td>\n",
       "      <td>81.0</td>\n",
       "      <td>120.075</td>\n",
       "      <td>141.1</td>\n",
       "      <td>156.925</td>\n",
       "      <td>325.95</td>\n",
       "      <td>48.73257</td>\n",
       "    </tr>\n",
       "    <tr>\n",
       "      <th>Close</th>\n",
       "      <td>2035.0</td>\n",
       "      <td>149.45027</td>\n",
       "      <td>80.95</td>\n",
       "      <td>120.05</td>\n",
       "      <td>141.25</td>\n",
       "      <td>156.9</td>\n",
       "      <td>325.75</td>\n",
       "      <td>48.71204</td>\n",
       "    </tr>\n",
       "    <tr>\n",
       "      <th>Total Trade Quantity</th>\n",
       "      <td>2035.0</td>\n",
       "      <td>2335681.404423</td>\n",
       "      <td>39610.0</td>\n",
       "      <td>1146444.5</td>\n",
       "      <td>1783456.0</td>\n",
       "      <td>2813594.0</td>\n",
       "      <td>29191015.0</td>\n",
       "      <td>2091778.130824</td>\n",
       "    </tr>\n",
       "    <tr>\n",
       "      <th>Turnover (Lacs)</th>\n",
       "      <td>2035.0</td>\n",
       "      <td>3899.980565</td>\n",
       "      <td>37.04</td>\n",
       "      <td>1427.46</td>\n",
       "      <td>2512.03</td>\n",
       "      <td>4539.015</td>\n",
       "      <td>55755.08</td>\n",
       "      <td>4570.767877</td>\n",
       "    </tr>\n",
       "  </tbody>\n",
       "</table>\n",
       "</div>"
      ],
      "text/plain": [
       "                       count                           mean  \\\n",
       "Date                    2035  2014-08-20 14:43:06.339066112   \n",
       "Open                  2035.0                     149.713735   \n",
       "High                  2035.0                     151.992826   \n",
       "Low                   2035.0                     147.293931   \n",
       "Last                  2035.0                     149.474251   \n",
       "Close                 2035.0                      149.45027   \n",
       "Total Trade Quantity  2035.0                 2335681.404423   \n",
       "Turnover (Lacs)       2035.0                    3899.980565   \n",
       "\n",
       "                                      min                  25%  \\\n",
       "Date                  2010-07-21 00:00:00  2012-07-28 12:00:00   \n",
       "Open                                 81.1              120.025   \n",
       "High                                 82.8                122.1   \n",
       "Low                                  80.0                118.3   \n",
       "Last                                 81.0              120.075   \n",
       "Close                               80.95               120.05   \n",
       "Total Trade Quantity              39610.0            1146444.5   \n",
       "Turnover (Lacs)                     37.04              1427.46   \n",
       "\n",
       "                                      50%                  75%  \\\n",
       "Date                  2014-08-14 00:00:00  2016-09-10 12:00:00   \n",
       "Open                                141.5              157.175   \n",
       "High                                143.4                159.4   \n",
       "Low                                 139.6               155.15   \n",
       "Last                                141.1              156.925   \n",
       "Close                              141.25                156.9   \n",
       "Total Trade Quantity            1783456.0            2813594.0   \n",
       "Turnover (Lacs)                   2512.03             4539.015   \n",
       "\n",
       "                                      max             std  \n",
       "Date                  2018-09-28 00:00:00             NaN  \n",
       "Open                                327.7       48.664509  \n",
       "High                               328.75       49.413109  \n",
       "Low                                321.65       47.931958  \n",
       "Last                               325.95        48.73257  \n",
       "Close                              325.75        48.71204  \n",
       "Total Trade Quantity           29191015.0  2091778.130824  \n",
       "Turnover (Lacs)                  55755.08     4570.767877  "
      ]
     },
     "execution_count": 7,
     "metadata": {},
     "output_type": "execute_result"
    }
   ],
   "source": [
    "df.describe().transpose()"
   ]
  },
  {
   "cell_type": "markdown",
   "id": "443bdaa9-5614-448c-bb3f-24673f893eb8",
   "metadata": {},
   "source": [
    "### Creating a new data frame as data_frame"
   ]
  },
  {
   "cell_type": "raw",
   "id": "2538465e-9b41-45bc-9a14-8b74d3904370",
   "metadata": {},
   "source": [
    "Since our job is to predict the stock price, we will only be focusing on Date and Close columns"
   ]
  },
  {
   "cell_type": "code",
   "execution_count": 8,
   "id": "c7b4120c-568f-4d8c-a379-f0713a19736c",
   "metadata": {},
   "outputs": [
    {
     "data": {
      "text/html": [
       "<div>\n",
       "<style scoped>\n",
       "    .dataframe tbody tr th:only-of-type {\n",
       "        vertical-align: middle;\n",
       "    }\n",
       "\n",
       "    .dataframe tbody tr th {\n",
       "        vertical-align: top;\n",
       "    }\n",
       "\n",
       "    .dataframe thead th {\n",
       "        text-align: right;\n",
       "    }\n",
       "</style>\n",
       "<table border=\"1\" class=\"dataframe\">\n",
       "  <thead>\n",
       "    <tr style=\"text-align: right;\">\n",
       "      <th></th>\n",
       "      <th>Date</th>\n",
       "      <th>Close</th>\n",
       "    </tr>\n",
       "  </thead>\n",
       "  <tbody>\n",
       "    <tr>\n",
       "      <th>0</th>\n",
       "      <td>2018-09-28</td>\n",
       "      <td>233.75</td>\n",
       "    </tr>\n",
       "    <tr>\n",
       "      <th>1</th>\n",
       "      <td>2018-09-27</td>\n",
       "      <td>233.25</td>\n",
       "    </tr>\n",
       "    <tr>\n",
       "      <th>2</th>\n",
       "      <td>2018-09-26</td>\n",
       "      <td>234.25</td>\n",
       "    </tr>\n",
       "    <tr>\n",
       "      <th>3</th>\n",
       "      <td>2018-09-25</td>\n",
       "      <td>236.10</td>\n",
       "    </tr>\n",
       "    <tr>\n",
       "      <th>4</th>\n",
       "      <td>2018-09-24</td>\n",
       "      <td>233.30</td>\n",
       "    </tr>\n",
       "    <tr>\n",
       "      <th>...</th>\n",
       "      <td>...</td>\n",
       "      <td>...</td>\n",
       "    </tr>\n",
       "    <tr>\n",
       "      <th>2030</th>\n",
       "      <td>2010-07-27</td>\n",
       "      <td>118.65</td>\n",
       "    </tr>\n",
       "    <tr>\n",
       "      <th>2031</th>\n",
       "      <td>2010-07-26</td>\n",
       "      <td>117.60</td>\n",
       "    </tr>\n",
       "    <tr>\n",
       "      <th>2032</th>\n",
       "      <td>2010-07-23</td>\n",
       "      <td>120.65</td>\n",
       "    </tr>\n",
       "    <tr>\n",
       "      <th>2033</th>\n",
       "      <td>2010-07-22</td>\n",
       "      <td>120.90</td>\n",
       "    </tr>\n",
       "    <tr>\n",
       "      <th>2034</th>\n",
       "      <td>2010-07-21</td>\n",
       "      <td>121.55</td>\n",
       "    </tr>\n",
       "  </tbody>\n",
       "</table>\n",
       "<p>2035 rows × 2 columns</p>\n",
       "</div>"
      ],
      "text/plain": [
       "           Date   Close\n",
       "0    2018-09-28  233.75\n",
       "1    2018-09-27  233.25\n",
       "2    2018-09-26  234.25\n",
       "3    2018-09-25  236.10\n",
       "4    2018-09-24  233.30\n",
       "...         ...     ...\n",
       "2030 2010-07-27  118.65\n",
       "2031 2010-07-26  117.60\n",
       "2032 2010-07-23  120.65\n",
       "2033 2010-07-22  120.90\n",
       "2034 2010-07-21  121.55\n",
       "\n",
       "[2035 rows x 2 columns]"
      ]
     },
     "execution_count": 8,
     "metadata": {},
     "output_type": "execute_result"
    }
   ],
   "source": [
    "data_frame = df[['Date','Close']]\n",
    "data_frame"
   ]
  },
  {
   "cell_type": "markdown",
   "id": "51526b39-a526-4058-96e9-b929428e4764",
   "metadata": {},
   "source": [
    "### Plotting Date vs Close"
   ]
  },
  {
   "cell_type": "raw",
   "id": "3495e6ff-804b-49f0-8358-e3f817191717",
   "metadata": {},
   "source": [
    "Making Date as index of data_frame"
   ]
  },
  {
   "cell_type": "code",
   "execution_count": 9,
   "id": "dec0365f-ee31-41be-9ce5-9aa634778fb1",
   "metadata": {},
   "outputs": [
    {
     "data": {
      "text/html": [
       "<div>\n",
       "<style scoped>\n",
       "    .dataframe tbody tr th:only-of-type {\n",
       "        vertical-align: middle;\n",
       "    }\n",
       "\n",
       "    .dataframe tbody tr th {\n",
       "        vertical-align: top;\n",
       "    }\n",
       "\n",
       "    .dataframe thead th {\n",
       "        text-align: right;\n",
       "    }\n",
       "</style>\n",
       "<table border=\"1\" class=\"dataframe\">\n",
       "  <thead>\n",
       "    <tr style=\"text-align: right;\">\n",
       "      <th></th>\n",
       "      <th>Close</th>\n",
       "    </tr>\n",
       "    <tr>\n",
       "      <th>Date</th>\n",
       "      <th></th>\n",
       "    </tr>\n",
       "  </thead>\n",
       "  <tbody>\n",
       "    <tr>\n",
       "      <th>2018-09-28</th>\n",
       "      <td>233.75</td>\n",
       "    </tr>\n",
       "    <tr>\n",
       "      <th>2018-09-27</th>\n",
       "      <td>233.25</td>\n",
       "    </tr>\n",
       "    <tr>\n",
       "      <th>2018-09-26</th>\n",
       "      <td>234.25</td>\n",
       "    </tr>\n",
       "    <tr>\n",
       "      <th>2018-09-25</th>\n",
       "      <td>236.10</td>\n",
       "    </tr>\n",
       "    <tr>\n",
       "      <th>2018-09-24</th>\n",
       "      <td>233.30</td>\n",
       "    </tr>\n",
       "    <tr>\n",
       "      <th>...</th>\n",
       "      <td>...</td>\n",
       "    </tr>\n",
       "    <tr>\n",
       "      <th>2010-07-27</th>\n",
       "      <td>118.65</td>\n",
       "    </tr>\n",
       "    <tr>\n",
       "      <th>2010-07-26</th>\n",
       "      <td>117.60</td>\n",
       "    </tr>\n",
       "    <tr>\n",
       "      <th>2010-07-23</th>\n",
       "      <td>120.65</td>\n",
       "    </tr>\n",
       "    <tr>\n",
       "      <th>2010-07-22</th>\n",
       "      <td>120.90</td>\n",
       "    </tr>\n",
       "    <tr>\n",
       "      <th>2010-07-21</th>\n",
       "      <td>121.55</td>\n",
       "    </tr>\n",
       "  </tbody>\n",
       "</table>\n",
       "<p>2035 rows × 1 columns</p>\n",
       "</div>"
      ],
      "text/plain": [
       "             Close\n",
       "Date              \n",
       "2018-09-28  233.75\n",
       "2018-09-27  233.25\n",
       "2018-09-26  234.25\n",
       "2018-09-25  236.10\n",
       "2018-09-24  233.30\n",
       "...            ...\n",
       "2010-07-27  118.65\n",
       "2010-07-26  117.60\n",
       "2010-07-23  120.65\n",
       "2010-07-22  120.90\n",
       "2010-07-21  121.55\n",
       "\n",
       "[2035 rows x 1 columns]"
      ]
     },
     "execution_count": 9,
     "metadata": {},
     "output_type": "execute_result"
    }
   ],
   "source": [
    "data_frame.index = data_frame.pop('Date')\n",
    "data_frame"
   ]
  },
  {
   "cell_type": "code",
   "execution_count": 10,
   "id": "a4f71669-dec4-460f-90e8-03819e0b8ed3",
   "metadata": {},
   "outputs": [
    {
     "data": {
      "text/plain": [
       "[<matplotlib.lines.Line2D at 0x195a9bd6450>]"
      ]
     },
     "execution_count": 10,
     "metadata": {},
     "output_type": "execute_result"
    },
    {
     "data": {
      "image/png": "[encoded data removed]",
      "text/plain": [
       "<Figure size 640x480 with 1 Axes>"
      ]
     },
     "metadata": {},
     "output_type": "display_data"
    }
   ],
   "source": [
    "plt.plot(data_frame.index,data_frame['Close'])"
   ]
  },
  {
   "cell_type": "markdown",
   "id": "fe49e62c-3ac3-4ae6-ae71-22534949af9f",
   "metadata": {},
   "source": [
    "### Preparing our data_frame for LSMT"
   ]
  },
  {
   "cell_type": "code",
   "execution_count": 11,
   "id": "f880e92e-bfe6-4787-b9ef-f431a3691e50",
   "metadata": {},
   "outputs": [],
   "source": [
    "from copy import deepcopy as dc\n",
    "\n",
    "def prepare_dataframe_for_lstm(data_frame,steps):\n",
    "    #deep copy of data_frame to dataframe\n",
    "    dataframe = dc(data_frame)\n",
    "\n",
    "    #creates new columns with previous close data\n",
    "    for i in range(1,steps+1):\n",
    "        dataframe[f'Close(t-{i})'] = dataframe['Close'].shift(-i)\n",
    "        \n",
    "    dataframe.dropna(inplace = True)\n",
    "    return dataframe\n",
    "    "
   ]
  },
  {
   "cell_type": "raw",
   "id": "7f2bc757-a144-4bed-aa08-4ec3e22403a3",
   "metadata": {},
   "source": [
    "Here, we are taking steps as 7 which means we will consider a week of previous data to predict the current close data i.e lookback = 7"
   ]
  },
  {
   "cell_type": "code",
   "execution_count": 12,
   "id": "4655bcbf-220d-4a71-a85f-5eefe96faade",
   "metadata": {},
   "outputs": [
    {
     "data": {
      "text/html": [
       "<div>\n",
       "<style scoped>\n",
       "    .dataframe tbody tr th:only-of-type {\n",
       "        vertical-align: middle;\n",
       "    }\n",
       "\n",
       "    .dataframe tbody tr th {\n",
       "        vertical-align: top;\n",
       "    }\n",
       "\n",
       "    .dataframe thead th {\n",
       "        text-align: right;\n",
       "    }\n",
       "</style>\n",
       "<table border=\"1\" class=\"dataframe\">\n",
       "  <thead>\n",
       "    <tr style=\"text-align: right;\">\n",
       "      <th></th>\n",
       "      <th>Close</th>\n",
       "      <th>Close(t-1)</th>\n",
       "      <th>Close(t-2)</th>\n",
       "      <th>Close(t-3)</th>\n",
       "      <th>Close(t-4)</th>\n",
       "      <th>Close(t-5)</th>\n",
       "      <th>Close(t-6)</th>\n",
       "      <th>Close(t-7)</th>\n",
       "    </tr>\n",
       "    <tr>\n",
       "      <th>Date</th>\n",
       "      <th></th>\n",
       "      <th></th>\n",
       "      <th></th>\n",
       "      <th></th>\n",
       "      <th></th>\n",
       "      <th></th>\n",
       "      <th></th>\n",
       "      <th></th>\n",
       "    </tr>\n",
       "  </thead>\n",
       "  <tbody>\n",
       "    <tr>\n",
       "      <th>2018-09-28</th>\n",
       "      <td>233.75</td>\n",
       "      <td>233.25</td>\n",
       "      <td>234.25</td>\n",
       "      <td>236.10</td>\n",
       "      <td>233.30</td>\n",
       "      <td>234.60</td>\n",
       "      <td>234.90</td>\n",
       "      <td>235.05</td>\n",
       "    </tr>\n",
       "    <tr>\n",
       "      <th>2018-09-27</th>\n",
       "      <td>233.25</td>\n",
       "      <td>234.25</td>\n",
       "      <td>236.10</td>\n",
       "      <td>233.30</td>\n",
       "      <td>234.60</td>\n",
       "      <td>234.90</td>\n",
       "      <td>235.05</td>\n",
       "      <td>236.60</td>\n",
       "    </tr>\n",
       "    <tr>\n",
       "      <th>2018-09-26</th>\n",
       "      <td>234.25</td>\n",
       "      <td>236.10</td>\n",
       "      <td>233.30</td>\n",
       "      <td>234.60</td>\n",
       "      <td>234.90</td>\n",
       "      <td>235.05</td>\n",
       "      <td>236.60</td>\n",
       "      <td>233.95</td>\n",
       "    </tr>\n",
       "    <tr>\n",
       "      <th>2018-09-25</th>\n",
       "      <td>236.10</td>\n",
       "      <td>233.30</td>\n",
       "      <td>234.60</td>\n",
       "      <td>234.90</td>\n",
       "      <td>235.05</td>\n",
       "      <td>236.60</td>\n",
       "      <td>233.95</td>\n",
       "      <td>222.65</td>\n",
       "    </tr>\n",
       "    <tr>\n",
       "      <th>2018-09-24</th>\n",
       "      <td>233.30</td>\n",
       "      <td>234.60</td>\n",
       "      <td>234.90</td>\n",
       "      <td>235.05</td>\n",
       "      <td>236.60</td>\n",
       "      <td>233.95</td>\n",
       "      <td>222.65</td>\n",
       "      <td>216.00</td>\n",
       "    </tr>\n",
       "    <tr>\n",
       "      <th>...</th>\n",
       "      <td>...</td>\n",
       "      <td>...</td>\n",
       "      <td>...</td>\n",
       "      <td>...</td>\n",
       "      <td>...</td>\n",
       "      <td>...</td>\n",
       "      <td>...</td>\n",
       "      <td>...</td>\n",
       "    </tr>\n",
       "    <tr>\n",
       "      <th>2010-08-05</th>\n",
       "      <td>114.05</td>\n",
       "      <td>116.50</td>\n",
       "      <td>118.30</td>\n",
       "      <td>117.30</td>\n",
       "      <td>116.05</td>\n",
       "      <td>116.60</td>\n",
       "      <td>118.25</td>\n",
       "      <td>118.65</td>\n",
       "    </tr>\n",
       "    <tr>\n",
       "      <th>2010-08-04</th>\n",
       "      <td>116.50</td>\n",
       "      <td>118.30</td>\n",
       "      <td>117.30</td>\n",
       "      <td>116.05</td>\n",
       "      <td>116.60</td>\n",
       "      <td>118.25</td>\n",
       "      <td>118.65</td>\n",
       "      <td>117.60</td>\n",
       "    </tr>\n",
       "    <tr>\n",
       "      <th>2010-08-03</th>\n",
       "      <td>118.30</td>\n",
       "      <td>117.30</td>\n",
       "      <td>116.05</td>\n",
       "      <td>116.60</td>\n",
       "      <td>118.25</td>\n",
       "      <td>118.65</td>\n",
       "      <td>117.60</td>\n",
       "      <td>120.65</td>\n",
       "    </tr>\n",
       "    <tr>\n",
       "      <th>2010-08-02</th>\n",
       "      <td>117.30</td>\n",
       "      <td>116.05</td>\n",
       "      <td>116.60</td>\n",
       "      <td>118.25</td>\n",
       "      <td>118.65</td>\n",
       "      <td>117.60</td>\n",
       "      <td>120.65</td>\n",
       "      <td>120.90</td>\n",
       "    </tr>\n",
       "    <tr>\n",
       "      <th>2010-07-30</th>\n",
       "      <td>116.05</td>\n",
       "      <td>116.60</td>\n",
       "      <td>118.25</td>\n",
       "      <td>118.65</td>\n",
       "      <td>117.60</td>\n",
       "      <td>120.65</td>\n",
       "      <td>120.90</td>\n",
       "      <td>121.55</td>\n",
       "    </tr>\n",
       "  </tbody>\n",
       "</table>\n",
       "<p>2028 rows × 8 columns</p>\n",
       "</div>"
      ],
      "text/plain": [
       "             Close  Close(t-1)  Close(t-2)  Close(t-3)  Close(t-4)  \\\n",
       "Date                                                                 \n",
       "2018-09-28  233.75      233.25      234.25      236.10      233.30   \n",
       "2018-09-27  233.25      234.25      236.10      233.30      234.60   \n",
       "2018-09-26  234.25      236.10      233.30      234.60      234.90   \n",
       "2018-09-25  236.10      233.30      234.60      234.90      235.05   \n",
       "2018-09-24  233.30      234.60      234.90      235.05      236.60   \n",
       "...            ...         ...         ...         ...         ...   \n",
       "2010-08-05  114.05      116.50      118.30      117.30      116.05   \n",
       "2010-08-04  116.50      118.30      117.30      116.05      116.60   \n",
       "2010-08-03  118.30      117.30      116.05      116.60      118.25   \n",
       "2010-08-02  117.30      116.05      116.60      118.25      118.65   \n",
       "2010-07-30  116.05      116.60      118.25      118.65      117.60   \n",
       "\n",
       "            Close(t-5)  Close(t-6)  Close(t-7)  \n",
       "Date                                            \n",
       "2018-09-28      234.60      234.90      235.05  \n",
       "2018-09-27      234.90      235.05      236.60  \n",
       "2018-09-26      235.05      236.60      233.95  \n",
       "2018-09-25      236.60      233.95      222.65  \n",
       "2018-09-24      233.95      222.65      216.00  \n",
       "...                ...         ...         ...  \n",
       "2010-08-05      116.60      118.25      118.65  \n",
       "2010-08-04      118.25      118.65      117.60  \n",
       "2010-08-03      118.65      117.60      120.65  \n",
       "2010-08-02      117.60      120.65      120.90  \n",
       "2010-07-30      120.65      120.90      121.55  \n",
       "\n",
       "[2028 rows x 8 columns]"
      ]
     },
     "execution_count": 12,
     "metadata": {},
     "output_type": "execute_result"
    }
   ],
   "source": [
    "lookback = 7\n",
    "shifted_data_frame = prepare_dataframe_for_lstm(data_frame,lookback)\n",
    "shifted_data_frame"
   ]
  },
  {
   "cell_type": "markdown",
   "id": "d793993f-d519-4595-b5b2-4cec439100e7",
   "metadata": {},
   "source": [
    "### Running scaler on all of our data to range(-1, 1)"
   ]
  },
  {
   "cell_type": "code",
   "execution_count": 13,
   "id": "3b8cac12-5d2e-4c10-8187-fc7578e44568",
   "metadata": {},
   "outputs": [
    {
     "data": {
      "text/plain": [
       "array([[ 0.24836601,  0.24428105,  0.25245098, ...,  0.25531046,\n",
       "         0.25776144,  0.25898693],\n",
       "       [ 0.24428105,  0.25245098,  0.26756536, ...,  0.25776144,\n",
       "         0.25898693,  0.27165033],\n",
       "       [ 0.25245098,  0.26756536,  0.24468954, ...,  0.25898693,\n",
       "         0.27165033,  0.25      ],\n",
       "       ...,\n",
       "       [-0.69485294, -0.70302288, -0.71323529, ..., -0.69199346,\n",
       "        -0.7005719 , -0.67565359],\n",
       "       [-0.70302288, -0.71323529, -0.70874183, ..., -0.7005719 ,\n",
       "        -0.67565359, -0.67361111],\n",
       "       [-0.71323529, -0.70874183, -0.69526144, ..., -0.67565359,\n",
       "        -0.67361111, -0.66830065]])"
      ]
     },
     "execution_count": 13,
     "metadata": {},
     "output_type": "execute_result"
    }
   ],
   "source": [
    "from sklearn.preprocessing import MinMaxScaler\n",
    "\n",
    "scaler = MinMaxScaler(feature_range = (-1,1))\n",
    "shifted_data_frame_as_np = scaler.fit_transform(shifted_data_frame)\n",
    "shifted_data_frame_as_np"
   ]
  },
  {
   "cell_type": "markdown",
   "id": "f1b73793-d76f-4531-98d4-1e293b87c49a",
   "metadata": {},
   "source": [
    "### Getting our X features and y targets from shifted_data_frame_as_np"
   ]
  },
  {
   "cell_type": "code",
   "execution_count": 14,
   "id": "561a56ff-ac9e-4492-9f9e-9fd7779dde71",
   "metadata": {},
   "outputs": [
    {
     "data": {
      "text/plain": [
       "((2028, 7), (2028,))"
      ]
     },
     "execution_count": 14,
     "metadata": {},
     "output_type": "execute_result"
    }
   ],
   "source": [
    "X = shifted_data_frame_as_np[:, 1:]\n",
    "y = shifted_data_frame_as_np[:, 0]\n",
    "X.shape, y.shape"
   ]
  },
  {
   "cell_type": "raw",
   "id": "5e33b7ec-14a1-4d3c-be3f-3abd0b068d91",
   "metadata": {},
   "source": [
    "flipping the columns of X such that it starts from t-7 towards t-1 and closing towards the target"
   ]
  },
  {
   "cell_type": "code",
   "execution_count": 15,
   "id": "67e60461-2bc2-4011-8338-598596531576",
   "metadata": {},
   "outputs": [
    {
     "data": {
      "text/plain": [
       "array([[ 0.25898693,  0.25776144,  0.25531046, ...,  0.26756536,\n",
       "         0.25245098,  0.24428105],\n",
       "       [ 0.27165033,  0.25898693,  0.25776144, ...,  0.24468954,\n",
       "         0.26756536,  0.25245098],\n",
       "       [ 0.25      ,  0.27165033,  0.25898693, ...,  0.25531046,\n",
       "         0.24468954,  0.26756536],\n",
       "       ...,\n",
       "       [-0.67565359, -0.7005719 , -0.69199346, ..., -0.70874183,\n",
       "        -0.71323529, -0.70302288],\n",
       "       [-0.67361111, -0.67565359, -0.7005719 , ..., -0.69526144,\n",
       "        -0.70874183, -0.71323529],\n",
       "       [-0.66830065, -0.67361111, -0.67565359, ..., -0.69199346,\n",
       "        -0.69526144, -0.70874183]])"
      ]
     },
     "execution_count": 15,
     "metadata": {},
     "output_type": "execute_result"
    }
   ],
   "source": [
    "X = dc(np.flip(X, axis=1))\n",
    "X"
   ]
  },
  {
   "cell_type": "markdown",
   "id": "764e36d9-9124-40f7-9c13-39c384c087f7",
   "metadata": {},
   "source": [
    "### Spliting the data into train and test"
   ]
  },
  {
   "cell_type": "raw",
   "id": "33039cf0-2c29-410e-bfbc-3d4500f2e794",
   "metadata": {},
   "source": [
    "Calculating the split index keeping 95% as train and remaining 5% as test data"
   ]
  },
  {
   "cell_type": "code",
   "execution_count": 16,
   "id": "3a077494-05a3-444f-9a0e-11d989be6b96",
   "metadata": {},
   "outputs": [
    {
     "data": {
      "text/plain": [
       "1926"
      ]
     },
     "execution_count": 16,
     "metadata": {},
     "output_type": "execute_result"
    }
   ],
   "source": [
    "split_index = int(len(X) * 0.95)\n",
    "split_index"
   ]
  },
  {
   "cell_type": "code",
   "execution_count": 17,
   "id": "10396c64-e538-4c71-977f-4d70a9ede779",
   "metadata": {},
   "outputs": [
    {
     "data": {
      "text/plain": [
       "((1926, 7), (102, 7), (1926,), (102,))"
      ]
     },
     "execution_count": 17,
     "metadata": {},
     "output_type": "execute_result"
    }
   ],
   "source": [
    "X_train = X[:split_index]\n",
    "X_test = X[split_index:]\n",
    "\n",
    "y_train = y[:split_index]\n",
    "y_test = y[split_index:]\n",
    "\n",
    "X_train.shape,X_test.shape,y_train.shape,y_test.shape"
   ]
  },
  {
   "cell_type": "raw",
   "id": "409dbe5f-1b65-46db-8071-87061dfa1a08",
   "metadata": {},
   "source": [
    "Adding extra dimension at the end as it is requirement for pytorch LSTM"
   ]
  },
  {
   "cell_type": "code",
   "execution_count": 18,
   "id": "2cbf0e1b-0608-4fb1-99c4-b4c2c4a1446d",
   "metadata": {},
   "outputs": [
    {
     "data": {
      "text/plain": [
       "((1926, 7, 1), (102, 7, 1), (1926, 1), (102, 1))"
      ]
     },
     "execution_count": 18,
     "metadata": {},
     "output_type": "execute_result"
    }
   ],
   "source": [
    "X_train = X_train.reshape((-1, lookback, 1))\n",
    "X_test = X_test.reshape((-1, lookback, 1))\n",
    "\n",
    "y_train = y_train.reshape((-1, 1))\n",
    "y_test = y_test.reshape((-1, 1))\n",
    "\n",
    "X_train.shape, X_test.shape, y_train.shape, y_test.shape"
   ]
  },
  {
   "cell_type": "raw",
   "id": "c18379dd-8a3a-447f-8908-f82d29516e4b",
   "metadata": {},
   "source": [
    "since we are now using pytorch, wrapping all these data into pytorch tensors"
   ]
  },
  {
   "cell_type": "code",
   "execution_count": 19,
   "id": "7ff71e90-da73-41f1-b5c9-f3e27a613726",
   "metadata": {},
   "outputs": [
    {
     "data": {
      "text/plain": [
       "(torch.Size([1926, 7, 1]),\n",
       " torch.Size([102, 7, 1]),\n",
       " torch.Size([1926, 1]),\n",
       " torch.Size([102, 1]))"
      ]
     },
     "execution_count": 19,
     "metadata": {},
     "output_type": "execute_result"
    }
   ],
   "source": [
    "X_train = torch.tensor(X_train).float()\n",
    "y_train = torch.tensor(y_train).float()\n",
    "X_test = torch.tensor(X_test).float()\n",
    "y_test = torch.tensor(y_test).float()\n",
    "\n",
    "X_train.shape, X_test.shape, y_train.shape, y_test.shape"
   ]
  },
  {
   "cell_type": "raw",
   "id": "cfd2b056-fb7d-443a-9352-1d28ecdd0a5b",
   "metadata": {},
   "source": [
    "creating dataset objects for training models in pytorch"
   ]
  },
  {
   "cell_type": "code",
   "execution_count": 20,
   "id": "d52b6898-ee41-43b1-bdb6-5836d5fd838d",
   "metadata": {},
   "outputs": [],
   "source": [
    "from torch.utils.data import Dataset\n",
    "\n",
    "class TimeSeriesDataset(Dataset):\n",
    "    def __init__(self, X, y):\n",
    "        self.X = X\n",
    "        self.y = y\n",
    "\n",
    "    def __len__(self):\n",
    "        return len(self.X)\n",
    "\n",
    "    def __getitem__(self, i):\n",
    "        return self.X[i], self.y[i]\n",
    "    \n",
    "train_dataset = TimeSeriesDataset(X_train, y_train)\n",
    "test_dataset = TimeSeriesDataset(X_test, y_test)"
   ]
  },
  {
   "cell_type": "code",
   "execution_count": 21,
   "id": "952d5b07-e585-4f27-9920-92d27e1b3c05",
   "metadata": {},
   "outputs": [],
   "source": [
    "from torch.utils.data import DataLoader\n",
    "\n",
    "batch_size = 16\n",
    "\n",
    "train_loader = DataLoader(train_dataset, batch_size=batch_size, shuffle=True)\n",
    "test_loader = DataLoader(test_dataset, batch_size=batch_size, shuffle=False)"
   ]
  },
  {
   "cell_type": "markdown",
   "id": "00e6ed56-8c85-4f16-a43d-919c06d66b5e",
   "metadata": {},
   "source": [
    "### LSTM model"
   ]
  },
  {
   "cell_type": "code",
   "execution_count": 22,
   "id": "76e17092-0bee-4650-8b0f-8590c1d60c3a",
   "metadata": {},
   "outputs": [
    {
     "data": {
      "text/plain": [
       "LSTM(\n",
       "  (lstm): LSTM(1, 4, batch_first=True)\n",
       "  (fc): Linear(in_features=4, out_features=1, bias=True)\n",
       ")"
      ]
     },
     "execution_count": 22,
     "metadata": {},
     "output_type": "execute_result"
    }
   ],
   "source": [
    "class LSTM(nn.Module):\n",
    "    def __init__(self, input_size, hidden_size, num_stacked_layers):\n",
    "        super().__init__()\n",
    "        self.hidden_size = hidden_size\n",
    "        self.num_stacked_layers = num_stacked_layers\n",
    "\n",
    "        self.lstm = nn.LSTM(input_size, hidden_size, num_stacked_layers, \n",
    "                            batch_first=True)\n",
    "        \n",
    "        self.fc = nn.Linear(hidden_size, 1)\n",
    "\n",
    "    def forward(self, x):\n",
    "        batch_size = x.size(0)\n",
    "        h0 = torch.zeros(self.num_stacked_layers, batch_size, self.hidden_size)\n",
    "        c0 = torch.zeros(self.num_stacked_layers, batch_size, self.hidden_size)\n",
    "        \n",
    "        out, _ = self.lstm(x, (h0, c0))\n",
    "        out = self.fc(out[:, -1, :])\n",
    "        return out\n",
    "\n",
    "model = LSTM(1, 4, 1)\n",
    "# model.to(device)\n",
    "model"
   ]
  },
  {
   "cell_type": "code",
   "execution_count": 23,
   "id": "e65ffd1e-3a4f-48c8-8968-f6464b929acc",
   "metadata": {},
   "outputs": [],
   "source": [
    "def train_one_epoch():\n",
    "    model.train(True)\n",
    "    print(f'Epoch: {epoch + 1}')\n",
    "    running_loss = 0.0\n",
    "    \n",
    "    for batch_index, batch in enumerate(train_loader):\n",
    "        x_batch, y_batch = batch[0], batch[1]\n",
    "        \n",
    "        output = model(x_batch)\n",
    "        loss = loss_function(output, y_batch)\n",
    "        running_loss += loss.item()\n",
    "        \n",
    "        optimizer.zero_grad()\n",
    "        loss.backward()\n",
    "        optimizer.step()\n",
    "\n",
    "        if batch_index % 100 == 99:  # print every 100 batches\n",
    "            avg_loss_across_batches = running_loss / 100\n",
    "            print('Batch {0}, Loss: {1:.3f}'.format(batch_index+1,\n",
    "                                                    avg_loss_across_batches))\n",
    "            running_loss = 0.0\n",
    "    print()"
   ]
  },
  {
   "cell_type": "code",
   "execution_count": 24,
   "id": "118d7f8c-91a7-4407-8847-6c2313f8d263",
   "metadata": {},
   "outputs": [],
   "source": [
    "def validate_one_epoch():\n",
    "    model.train(False)\n",
    "    running_loss = 0.0\n",
    "    \n",
    "    for batch_index, batch in enumerate(test_loader):\n",
    "        x_batch, y_batch = batch[0], batch[1]\n",
    "        \n",
    "        with torch.no_grad():\n",
    "            output = model(x_batch)\n",
    "            loss = loss_function(output, y_batch)\n",
    "            running_loss += loss.item()\n",
    "\n",
    "    avg_loss_across_batches = running_loss / len(test_loader)\n",
    "    \n",
    "    print('Val Loss: {0:.3f}'.format(avg_loss_across_batches))\n",
    "    print('***************************************************')\n",
    "    print()"
   ]
  },
  {
   "cell_type": "markdown",
   "id": "a854f378-e163-41f7-965a-481a14e6bdae",
   "metadata": {},
   "source": [
    "### Initializing learning_rate, epochs and optimizer and running epochs to check for loss"
   ]
  },
  {
   "cell_type": "code",
   "execution_count": 25,
   "id": "bc7b0ab3-e5b8-44d7-b3a8-40415ce1fb71",
   "metadata": {},
   "outputs": [
    {
     "name": "stdout",
     "output_type": "stream",
     "text": [
      "Epoch: 1\n",
      "Batch 100, Loss: 0.194\n",
      "\n",
      "Val Loss: 0.041\n",
      "***************************************************\n",
      "\n",
      "Epoch: 2\n",
      "Batch 100, Loss: 0.064\n",
      "\n",
      "Val Loss: 0.002\n",
      "***************************************************\n",
      "\n",
      "Epoch: 3\n",
      "Batch 100, Loss: 0.025\n",
      "\n",
      "Val Loss: 0.001\n",
      "***************************************************\n",
      "\n",
      "Epoch: 4\n",
      "Batch 100, Loss: 0.013\n",
      "\n",
      "Val Loss: 0.001\n",
      "***************************************************\n",
      "\n",
      "Epoch: 5\n",
      "Batch 100, Loss: 0.007\n",
      "\n",
      "Val Loss: 0.001\n",
      "***************************************************\n",
      "\n",
      "Epoch: 6\n",
      "Batch 100, Loss: 0.004\n",
      "\n",
      "Val Loss: 0.001\n",
      "***************************************************\n",
      "\n",
      "Epoch: 7\n",
      "Batch 100, Loss: 0.003\n",
      "\n",
      "Val Loss: 0.001\n",
      "***************************************************\n",
      "\n",
      "Epoch: 8\n",
      "Batch 100, Loss: 0.003\n",
      "\n",
      "Val Loss: 0.001\n",
      "***************************************************\n",
      "\n",
      "Epoch: 9\n",
      "Batch 100, Loss: 0.002\n",
      "\n",
      "Val Loss: 0.001\n",
      "***************************************************\n",
      "\n",
      "Epoch: 10\n",
      "Batch 100, Loss: 0.002\n",
      "\n",
      "Val Loss: 0.001\n",
      "***************************************************\n",
      "\n"
     ]
    }
   ],
   "source": [
    "learning_rate = 0.001\n",
    "num_epochs = 10\n",
    "loss_function = nn.MSELoss()\n",
    "optimizer = torch.optim.Adam(model.parameters(), lr=learning_rate)\n",
    "\n",
    "for epoch in range(num_epochs):\n",
    "    train_one_epoch()\n",
    "    validate_one_epoch()"
   ]
  },
  {
   "cell_type": "raw",
   "id": "6f797388-a5a7-423e-bf74-69d3d9a2e30c",
   "metadata": {},
   "source": [
    "As we can see that loss is decreasing with each epochs"
   ]
  },
  {
   "cell_type": "markdown",
   "id": "926017ad-5ee9-4753-a7f2-bdd5a8c997e0",
   "metadata": {},
   "source": [
    "### Prediction using the model along with the plot"
   ]
  },
  {
   "cell_type": "code",
   "execution_count": 37,
   "id": "30504f31-d13c-470b-b50f-6c08ff42ae98",
   "metadata": {},
   "outputs": [
    {
     "data": {
      "image/png": "[encoded data removed]",
      "text/plain": [
       "<Figure size 640x480 with 1 Axes>"
      ]
     },
     "metadata": {},
     "output_type": "display_data"
    },
    {
     "data": {
      "text/plain": [
       "array([[ 0.2667924 ],\n",
       "       [ 0.27090308],\n",
       "       [ 0.27173516],\n",
       "       ...,\n",
       "       [-0.7319217 ],\n",
       "       [-0.7249929 ],\n",
       "       [-0.72237587]], dtype=float32)"
      ]
     },
     "execution_count": 37,
     "metadata": {},
     "output_type": "execute_result"
    }
   ],
   "source": [
    "with torch.no_grad():\n",
    "    predicted = model(X_train).to('cpu').numpy()\n",
    "\n",
    "plt.plot(y_train, label='Actual Close')\n",
    "plt.plot(predicted, label='Predicted Close')\n",
    "plt.xlabel('Day')\n",
    "plt.ylabel('Close')\n",
    "plt.legend()\n",
    "plt.show()\n",
    "predicted"
   ]
  },
  {
   "cell_type": "markdown",
   "id": "d551f0aa-f72f-4793-8fe8-4060f4438410",
   "metadata": {},
   "source": [
    "### Making Date column the index of df"
   ]
  },
  {
   "cell_type": "code",
   "execution_count": 9,
   "id": "eac37008-dcc9-4054-98cd-851fb50a5e4e",
   "metadata": {},
   "outputs": [
    {
     "data": {
      "text/html": [
       "<div>\n",
       "<style scoped>\n",
       "    .dataframe tbody tr th:only-of-type {\n",
       "        vertical-align: middle;\n",
       "    }\n",
       "\n",
       "    .dataframe tbody tr th {\n",
       "        vertical-align: top;\n",
       "    }\n",
       "\n",
       "    .dataframe thead th {\n",
       "        text-align: right;\n",
       "    }\n",
       "</style>\n",
       "<table border=\"1\" class=\"dataframe\">\n",
       "  <thead>\n",
       "    <tr style=\"text-align: right;\">\n",
       "      <th></th>\n",
       "      <th>Open</th>\n",
       "      <th>High</th>\n",
       "      <th>Low</th>\n",
       "      <th>Last</th>\n",
       "      <th>Close</th>\n",
       "      <th>Total Trade Quantity</th>\n",
       "      <th>Turnover (Lacs)</th>\n",
       "    </tr>\n",
       "    <tr>\n",
       "      <th>Date</th>\n",
       "      <th></th>\n",
       "      <th></th>\n",
       "      <th></th>\n",
       "      <th></th>\n",
       "      <th></th>\n",
       "      <th></th>\n",
       "      <th></th>\n",
       "    </tr>\n",
       "  </thead>\n",
       "  <tbody>\n",
       "    <tr>\n",
       "      <th>2018-09-28</th>\n",
       "      <td>234.05</td>\n",
       "      <td>235.95</td>\n",
       "      <td>230.20</td>\n",
       "      <td>233.50</td>\n",
       "      <td>233.75</td>\n",
       "      <td>3069914</td>\n",
       "      <td>7162.35</td>\n",
       "    </tr>\n",
       "    <tr>\n",
       "      <th>2018-09-27</th>\n",
       "      <td>234.55</td>\n",
       "      <td>236.80</td>\n",
       "      <td>231.10</td>\n",
       "      <td>233.80</td>\n",
       "      <td>233.25</td>\n",
       "      <td>5082859</td>\n",
       "      <td>11859.95</td>\n",
       "    </tr>\n",
       "    <tr>\n",
       "      <th>2018-09-26</th>\n",
       "      <td>240.00</td>\n",
       "      <td>240.00</td>\n",
       "      <td>232.50</td>\n",
       "      <td>235.00</td>\n",
       "      <td>234.25</td>\n",
       "      <td>2240909</td>\n",
       "      <td>5248.60</td>\n",
       "    </tr>\n",
       "    <tr>\n",
       "      <th>2018-09-25</th>\n",
       "      <td>233.30</td>\n",
       "      <td>236.75</td>\n",
       "      <td>232.00</td>\n",
       "      <td>236.25</td>\n",
       "      <td>236.10</td>\n",
       "      <td>2349368</td>\n",
       "      <td>5503.90</td>\n",
       "    </tr>\n",
       "    <tr>\n",
       "      <th>2018-09-24</th>\n",
       "      <td>233.55</td>\n",
       "      <td>239.20</td>\n",
       "      <td>230.75</td>\n",
       "      <td>234.00</td>\n",
       "      <td>233.30</td>\n",
       "      <td>3423509</td>\n",
       "      <td>7999.55</td>\n",
       "    </tr>\n",
       "    <tr>\n",
       "      <th>...</th>\n",
       "      <td>...</td>\n",
       "      <td>...</td>\n",
       "      <td>...</td>\n",
       "      <td>...</td>\n",
       "      <td>...</td>\n",
       "      <td>...</td>\n",
       "      <td>...</td>\n",
       "    </tr>\n",
       "    <tr>\n",
       "      <th>2010-07-27</th>\n",
       "      <td>117.60</td>\n",
       "      <td>119.50</td>\n",
       "      <td>112.00</td>\n",
       "      <td>118.80</td>\n",
       "      <td>118.65</td>\n",
       "      <td>586100</td>\n",
       "      <td>694.98</td>\n",
       "    </tr>\n",
       "    <tr>\n",
       "      <th>2010-07-26</th>\n",
       "      <td>120.10</td>\n",
       "      <td>121.00</td>\n",
       "      <td>117.10</td>\n",
       "      <td>117.10</td>\n",
       "      <td>117.60</td>\n",
       "      <td>658440</td>\n",
       "      <td>780.01</td>\n",
       "    </tr>\n",
       "    <tr>\n",
       "      <th>2010-07-23</th>\n",
       "      <td>121.80</td>\n",
       "      <td>121.95</td>\n",
       "      <td>120.25</td>\n",
       "      <td>120.35</td>\n",
       "      <td>120.65</td>\n",
       "      <td>281312</td>\n",
       "      <td>340.31</td>\n",
       "    </tr>\n",
       "    <tr>\n",
       "      <th>2010-07-22</th>\n",
       "      <td>120.30</td>\n",
       "      <td>122.00</td>\n",
       "      <td>120.25</td>\n",
       "      <td>120.75</td>\n",
       "      <td>120.90</td>\n",
       "      <td>293312</td>\n",
       "      <td>355.17</td>\n",
       "    </tr>\n",
       "    <tr>\n",
       "      <th>2010-07-21</th>\n",
       "      <td>122.10</td>\n",
       "      <td>123.00</td>\n",
       "      <td>121.05</td>\n",
       "      <td>121.10</td>\n",
       "      <td>121.55</td>\n",
       "      <td>658666</td>\n",
       "      <td>803.56</td>\n",
       "    </tr>\n",
       "  </tbody>\n",
       "</table>\n",
       "<p>2035 rows × 7 columns</p>\n",
       "</div>"
      ],
      "text/plain": [
       "              Open    High     Low    Last   Close  Total Trade Quantity  \\\n",
       "Date                                                                       \n",
       "2018-09-28  234.05  235.95  230.20  233.50  233.75               3069914   \n",
       "2018-09-27  234.55  236.80  231.10  233.80  233.25               5082859   \n",
       "2018-09-26  240.00  240.00  232.50  235.00  234.25               2240909   \n",
       "2018-09-25  233.30  236.75  232.00  236.25  236.10               2349368   \n",
       "2018-09-24  233.55  239.20  230.75  234.00  233.30               3423509   \n",
       "...            ...     ...     ...     ...     ...                   ...   \n",
       "2010-07-27  117.60  119.50  112.00  118.80  118.65                586100   \n",
       "2010-07-26  120.10  121.00  117.10  117.10  117.60                658440   \n",
       "2010-07-23  121.80  121.95  120.25  120.35  120.65                281312   \n",
       "2010-07-22  120.30  122.00  120.25  120.75  120.90                293312   \n",
       "2010-07-21  122.10  123.00  121.05  121.10  121.55                658666   \n",
       "\n",
       "            Turnover (Lacs)  \n",
       "Date                         \n",
       "2018-09-28          7162.35  \n",
       "2018-09-27         11859.95  \n",
       "2018-09-26          5248.60  \n",
       "2018-09-25          5503.90  \n",
       "2018-09-24          7999.55  \n",
       "...                     ...  \n",
       "2010-07-27           694.98  \n",
       "2010-07-26           780.01  \n",
       "2010-07-23           340.31  \n",
       "2010-07-22           355.17  \n",
       "2010-07-21           803.56  \n",
       "\n",
       "[2035 rows x 7 columns]"
      ]
     },
     "execution_count": 9,
     "metadata": {},
     "output_type": "execute_result"
    }
   ],
   "source": [
    "df.index = df.pop('Date')\n",
    "df"
   ]
  },
  {
   "cell_type": "markdown",
   "id": "bfd25468-09b5-4809-984a-bb3ca61c24b1",
   "metadata": {},
   "source": [
    "#### We are only intrested in closing value and date"
   ]
  },
  {
   "cell_type": "code",
   "execution_count": 47,
   "id": "4ca2df5e-929e-46a7-a6b0-7a81f42d9997",
   "metadata": {},
   "outputs": [
    {
     "ename": "InvalidIndexError",
     "evalue": "(RangeIndex(start=0, stop=2035, step=1), ['Close'])",
     "output_type": "error",
     "traceback": [
      "\u001b[1;31m---------------------------------------------------------------------------\u001b[0m",
      "\u001b[1;31mTypeError\u001b[0m                                 Traceback (most recent call last)",
      "File \u001b[1;32m~\\AppData\\Local\\Programs\\Python\\Python311\\Lib\\site-packages\\pandas\\core\\indexes\\base.py:3791\u001b[0m, in \u001b[0;36mIndex.get_loc\u001b[1;34m(self, key)\u001b[0m\n\u001b[0;32m   3790\u001b[0m \u001b[38;5;28;01mtry\u001b[39;00m:\n\u001b[1;32m-> 3791\u001b[0m     \u001b[38;5;28;01mreturn\u001b[39;00m \u001b[38;5;28;43mself\u001b[39;49m\u001b[38;5;241;43m.\u001b[39;49m\u001b[43m_engine\u001b[49m\u001b[38;5;241;43m.\u001b[39;49m\u001b[43mget_loc\u001b[49m\u001b[43m(\u001b[49m\u001b[43mcasted_key\u001b[49m\u001b[43m)\u001b[49m\n\u001b[0;32m   3792\u001b[0m \u001b[38;5;28;01mexcept\u001b[39;00m \u001b[38;5;167;01mKeyError\u001b[39;00m \u001b[38;5;28;01mas\u001b[39;00m err:\n",
      "File \u001b[1;32mindex.pyx:152\u001b[0m, in \u001b[0;36mpandas._libs.index.IndexEngine.get_loc\u001b[1;34m()\u001b[0m\n",
      "File \u001b[1;32mindex.pyx:158\u001b[0m, in \u001b[0;36mpandas._libs.index.IndexEngine.get_loc\u001b[1;34m()\u001b[0m\n",
      "\u001b[1;31mTypeError\u001b[0m: '(RangeIndex(start=0, stop=2035, step=1), ['Close'])' is an invalid key",
      "\nDuring handling of the above exception, another exception occurred:\n",
      "\u001b[1;31mInvalidIndexError\u001b[0m                         Traceback (most recent call last)",
      "Cell \u001b[1;32mIn[47], line 1\u001b[0m\n\u001b[1;32m----> 1\u001b[0m data \u001b[38;5;241m=\u001b[39m \u001b[43mdf\u001b[49m\u001b[43m[\u001b[49m\u001b[43mdf\u001b[49m\u001b[38;5;241;43m.\u001b[39;49m\u001b[43mindex\u001b[49m\u001b[43m,\u001b[49m\u001b[43m[\u001b[49m\u001b[38;5;124;43m'\u001b[39;49m\u001b[38;5;124;43mClose\u001b[39;49m\u001b[38;5;124;43m'\u001b[39;49m\u001b[43m]\u001b[49m\u001b[43m]\u001b[49m\n\u001b[0;32m      2\u001b[0m data\n",
      "File \u001b[1;32m~\\AppData\\Local\\Programs\\Python\\Python311\\Lib\\site-packages\\pandas\\core\\frame.py:3893\u001b[0m, in \u001b[0;36mDataFrame.__getitem__\u001b[1;34m(self, key)\u001b[0m\n\u001b[0;32m   3891\u001b[0m \u001b[38;5;28;01mif\u001b[39;00m \u001b[38;5;28mself\u001b[39m\u001b[38;5;241m.\u001b[39mcolumns\u001b[38;5;241m.\u001b[39mnlevels \u001b[38;5;241m>\u001b[39m \u001b[38;5;241m1\u001b[39m:\n\u001b[0;32m   3892\u001b[0m     \u001b[38;5;28;01mreturn\u001b[39;00m \u001b[38;5;28mself\u001b[39m\u001b[38;5;241m.\u001b[39m_getitem_multilevel(key)\n\u001b[1;32m-> 3893\u001b[0m indexer \u001b[38;5;241m=\u001b[39m \u001b[38;5;28;43mself\u001b[39;49m\u001b[38;5;241;43m.\u001b[39;49m\u001b[43mcolumns\u001b[49m\u001b[38;5;241;43m.\u001b[39;49m\u001b[43mget_loc\u001b[49m\u001b[43m(\u001b[49m\u001b[43mkey\u001b[49m\u001b[43m)\u001b[49m\n\u001b[0;32m   3894\u001b[0m \u001b[38;5;28;01mif\u001b[39;00m is_integer(indexer):\n\u001b[0;32m   3895\u001b[0m     indexer \u001b[38;5;241m=\u001b[39m [indexer]\n",
      "File \u001b[1;32m~\\AppData\\Local\\Programs\\Python\\Python311\\Lib\\site-packages\\pandas\\core\\indexes\\base.py:3803\u001b[0m, in \u001b[0;36mIndex.get_loc\u001b[1;34m(self, key)\u001b[0m\n\u001b[0;32m   3798\u001b[0m     \u001b[38;5;28;01mraise\u001b[39;00m \u001b[38;5;167;01mKeyError\u001b[39;00m(key) \u001b[38;5;28;01mfrom\u001b[39;00m \u001b[38;5;21;01merr\u001b[39;00m\n\u001b[0;32m   3799\u001b[0m \u001b[38;5;28;01mexcept\u001b[39;00m \u001b[38;5;167;01mTypeError\u001b[39;00m:\n\u001b[0;32m   3800\u001b[0m     \u001b[38;5;66;03m# If we have a listlike key, _check_indexing_error will raise\u001b[39;00m\n\u001b[0;32m   3801\u001b[0m     \u001b[38;5;66;03m#  InvalidIndexError. Otherwise we fall through and re-raise\u001b[39;00m\n\u001b[0;32m   3802\u001b[0m     \u001b[38;5;66;03m#  the TypeError.\u001b[39;00m\n\u001b[1;32m-> 3803\u001b[0m     \u001b[38;5;28;43mself\u001b[39;49m\u001b[38;5;241;43m.\u001b[39;49m\u001b[43m_check_indexing_error\u001b[49m\u001b[43m(\u001b[49m\u001b[43mkey\u001b[49m\u001b[43m)\u001b[49m\n\u001b[0;32m   3804\u001b[0m     \u001b[38;5;28;01mraise\u001b[39;00m\n",
      "File \u001b[1;32m~\\AppData\\Local\\Programs\\Python\\Python311\\Lib\\site-packages\\pandas\\core\\indexes\\base.py:5975\u001b[0m, in \u001b[0;36mIndex._check_indexing_error\u001b[1;34m(self, key)\u001b[0m\n\u001b[0;32m   5971\u001b[0m \u001b[38;5;28;01mdef\u001b[39;00m \u001b[38;5;21m_check_indexing_error\u001b[39m(\u001b[38;5;28mself\u001b[39m, key):\n\u001b[0;32m   5972\u001b[0m     \u001b[38;5;28;01mif\u001b[39;00m \u001b[38;5;129;01mnot\u001b[39;00m is_scalar(key):\n\u001b[0;32m   5973\u001b[0m         \u001b[38;5;66;03m# if key is not a scalar, directly raise an error (the code below\u001b[39;00m\n\u001b[0;32m   5974\u001b[0m         \u001b[38;5;66;03m# would convert to numpy arrays and raise later any way) - GH29926\u001b[39;00m\n\u001b[1;32m-> 5975\u001b[0m         \u001b[38;5;28;01mraise\u001b[39;00m InvalidIndexError(key)\n",
      "\u001b[1;31mInvalidIndexError\u001b[0m: (RangeIndex(start=0, stop=2035, step=1), ['Close'])"
     ]
    }
   ],
   "source": [
    "data = df[df.index,['Close']]\n",
    "data"
   ]
  },
  {
   "cell_type": "markdown",
   "id": "cad738b4-6934-4a20-a245-aab57e5a18b7",
   "metadata": {},
   "source": [
    "#### plotting a graph for Date against close column"
   ]
  },
  {
   "cell_type": "code",
   "execution_count": 15,
   "id": "d5bc1254-7347-424c-a181-6d92c936be4e",
   "metadata": {},
   "outputs": [
    {
     "data": {
      "text/plain": [
       "[<matplotlib.lines.Line2D at 0x1547aebc290>]"
      ]
     },
     "execution_count": 15,
     "metadata": {},
     "output_type": "execute_result"
    },
    {
     "data": {
      "image/png": "[encoded data removed]",
      "text/plain": [
       "<Figure size 640x480 with 1 Axes>"
      ]
     },
     "metadata": {},
     "output_type": "display_data"
    }
   ],
   "source": [
    "plt.plot(df.index,df['Close'])"
   ]
  },
  {
   "cell_type": "code",
   "execution_count": null,
   "id": "78513462-ec2d-4564-b501-af19241e240a",
   "metadata": {},
   "outputs": [],
   "source": []
  }
 ],
 "metadata": {
  "kernelspec": {
   "display_name": "Python 3 (ipykernel)",
   "language": "python",
   "name": "python3"
  },
  "language_info": {
   "codemirror_mode": {
    "name": "ipython",
    "version": 3
   },
   "file_extension": ".py",
   "mimetype": "text/x-python",
   "name": "python",
   "nbconvert_exporter": "python",
   "pygments_lexer": "ipython3",
   "version": "3.11.5"
  }
 },
 "nbformat": 4,
 "nbformat_minor": 5
}
